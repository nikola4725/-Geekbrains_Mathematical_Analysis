{
 "cells": [
  {
   "cell_type": "markdown",
   "metadata": {},
   "source": [
    "## Тема “Множество”"
   ]
  },
  {
   "cell_type": "markdown",
   "metadata": {},
   "source": [
    "Даны три множества a,b и с. Необходимо выполнить все изученные виды бинарных операций над всеми комбинациями множеств."
   ]
  },
  {
   "cell_type": "code",
   "execution_count": 1,
   "metadata": {},
   "outputs": [
    {
     "name": "stdout",
     "output_type": "stream",
     "text": [
      "{'4', '2', '1', '3'}\n",
      "{'4', '6', '5', '3'}\n",
      "set()\n"
     ]
    }
   ],
   "source": [
    "a = set('1234')\n",
    "print(a)\n",
    "b = set('3456')\n",
    "print(b)\n",
    "c = set()\n",
    "print(c)"
   ]
  },
  {
   "cell_type": "code",
   "execution_count": 2,
   "metadata": {},
   "outputs": [
    {
     "name": "stdout",
     "output_type": "stream",
     "text": [
      "{'1', '2', '5', '4', '6', '3'} {'4', '2', '1', '3'}\n",
      "{'4', '3'} set()\n",
      "{'2', '1'} {'4', '2', '1', '3'}\n",
      "{'6', '5'} set()\n",
      "{'1', '2', '6', '5'} {'4', '3', '1', '2'}\n"
     ]
    }
   ],
   "source": [
    "print(a | b, a | c)\n",
    "print(a & b, a & c)\n",
    "print(a - b, a - c)\n",
    "print(b - a, c - a)\n",
    "print(a ^ b, a ^ c)"
   ]
  },
  {
   "cell_type": "markdown",
   "metadata": {},
   "source": [
    "## Тема “Последовательность”"
   ]
  },
  {
   "cell_type": "markdown",
   "metadata": {},
   "source": [
    "На языке Python предложить алгоритм вычисляющий численно предел с точностью e = 0,0000001. Предложить оптимизацию алгоритма, полученного в задании 3, ускоряющую его сходимость."
   ]
  },
  {
   "cell_type": "code",
   "execution_count": 3,
   "metadata": {},
   "outputs": [],
   "source": [
    "from math import factorial"
   ]
  },
  {
   "cell_type": "code",
   "execution_count": 4,
   "metadata": {},
   "outputs": [],
   "source": [
    "def f(n):\n",
    "    return n / (factorial(n) ** (1 / n))"
   ]
  },
  {
   "cell_type": "code",
   "execution_count": 5,
   "metadata": {},
   "outputs": [],
   "source": [
    "eps = 0.0000001"
   ]
  },
  {
   "cell_type": "code",
   "execution_count": null,
   "metadata": {},
   "outputs": [],
   "source": [
    "n = 2\n",
    "while f(n) - f(n - 1) > eps:\n",
    "    n += 1 # тут можно увеличить шаг"
   ]
  },
  {
   "cell_type": "code",
   "execution_count": null,
   "metadata": {},
   "outputs": [],
   "source": [
    "print(f(n))"
   ]
  }
 ],
 "metadata": {
  "kernelspec": {
   "display_name": "Python 3",
   "language": "python",
   "name": "python3"
  },
  "language_info": {
   "codemirror_mode": {
    "name": "ipython",
    "version": 3
   },
   "file_extension": ".py",
   "mimetype": "text/x-python",
   "name": "python",
   "nbconvert_exporter": "python",
   "pygments_lexer": "ipython3",
   "version": "3.7.3"
  }
 },
 "nbformat": 4,
 "nbformat_minor": 2
}
